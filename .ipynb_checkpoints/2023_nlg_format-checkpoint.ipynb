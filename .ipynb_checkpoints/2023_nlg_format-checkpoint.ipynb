{
 "cells": [
  {
   "cell_type": "code",
   "execution_count": 1,
   "id": "34a3eeff-2d58-4bb8-86a9-b2e9a0b8a6f7",
   "metadata": {},
   "outputs": [],
   "source": [
    "import json\n",
    "import copy\n",
    "import logging\n",
    "from dataclasses import dataclass, field\n",
    "from typing import Optional, Dict, Sequence\n",
    "import gc\n",
    "import tqdm\n",
    "import pandas as pd\n",
    "import io\n",
    "import torch\n",
    "import transformers\n",
    "from torch.utils.data import Dataset\n",
    "from transformers import LlamaModel, LlamaConfig\n",
    "from transformers.models.llama.modeling_llama import LlamaRMSNorm, LlamaRotaryEmbedding, LlamaDecoderLayer\n",
    "from transformers.activations import ACT2FN\n",
    "from transformers import AutoTokenizer\n",
    "import os\n",
    "from transformers import Trainer, AdamW, get_linear_schedule_with_warmup\n",
    "from transformers.trainer_pt_utils import get_parameter_names\n",
    "from transformers.utils import is_sagemaker_mp_enabled\n",
    "from transformers.trainer_utils import ShardedDDPOption\n",
    "from transformers.pytorch_utils import ALL_LAYERNORM_LAYERS\n",
    "\n",
    "def jload(f_name, mode=\"r\"):\n",
    "    lines = []\n",
    "    with open(f_name, 'r') as f:\n",
    "        for line in f:\n",
    "            lines.append(json.loads(line))\n",
    "    return lines"
   ]
  },
  {
   "cell_type": "markdown",
   "id": "0f57c14c-3b0d-4344-afb5-acb67cbc6b69",
   "metadata": {},
   "source": [
    "## 2023 모두의 말뭉치 text generation data processing"
   ]
  },
  {
   "cell_type": "code",
   "execution_count": 2,
   "id": "52e0e572-3da6-44a0-a0f9-1e1053282935",
   "metadata": {},
   "outputs": [
    {
     "data": {
      "text/plain": [
       "9"
      ]
     },
     "execution_count": 2,
     "metadata": {},
     "output_type": "execute_result"
    }
   ],
   "source": [
    "tok = AutoTokenizer.from_pretrained('./KoLLaVA-KoVicuna-7b/', use_fast=False)\n",
    "TC='<table_col>'#, '<table_row>'\n",
    "TI, TH='<table_important>', '<table_header>'\n",
    "TSR1, TSR2, TSRL = '<table_SR1>','<table_SR2>','<table_SRL>'\n",
    "TCR1, TCR2, TCRL = '<table_CR1>','<table_CR2>','<table_CRL>'\n",
    "\n",
    "tok.add_tokens([f'<eval_token_{i}>' for i in [2, 5]])\n",
    "tok.add_tokens([TC, TI, TH, TSR1, TSR2, TSRL, TCR1, TCR2, TCRL])"
   ]
  },
  {
   "cell_type": "code",
   "execution_count": 3,
   "id": "45cfecfb-ebe4-4115-8b57-776f56bd95aa",
   "metadata": {},
   "outputs": [],
   "source": [
    "DEBUG=False"
   ]
  },
  {
   "cell_type": "code",
   "execution_count": 4,
   "id": "d4a52532-de8a-4f51-bf89-cef552df7aa2",
   "metadata": {},
   "outputs": [
    {
     "name": "stdout",
     "output_type": "stream",
     "text": [
      "46820 {'image': 'S1C/S1C0152.jpg', 'conversations': [{'from': 'human', 'value': '<image><eval_token_2>'}, {'from': 'gpt', 'value': '사직구장에서 붉은 유니폼을 입은 야구선수들이 훈련을 진행하는 중이다.</s>'}]}\n"
     ]
    }
   ],
   "source": [
    "## Load 이미지 캡션 데이터셋\n",
    "lines_new = []\n",
    "f_name = '2023_NLG/02/nikluge-2022-image-dev.jsonl'\n",
    "lines = jload(f_name)\n",
    "f_name = '2023_NLG/02/nikluge-2022-image-train.jsonl'\n",
    "lines.extend(jload(f_name))\n",
    "if DEBUG: lines = lines[:10]\n",
    "## formatter\n",
    "def format_2(line):\n",
    "    # 다음 이미지를 설명하시오. \n",
    "    input_ = \"<image><eval_token_2>\"\n",
    "    image = f\"{line['input'][:3]}/{line['input']}.jpg\"\n",
    "    output_= [f\"{o}</s>\" for o in line['output']]\n",
    "    for oo in output_:\n",
    "        assert tok.encode(oo, add_special_tokens=False)[-1]==2\n",
    "    outputs= [{'image':image,\n",
    "                   'conversations':[{'from':'human','value':input_},\n",
    "                                 {'from':'gpt','value':f'{o}'},],} for o in output_]\n",
    "    return outputs\n",
    "for l in lines:\n",
    "    lines_new.extend(format_2(l))\n",
    "print(len(lines_new), lines_new[-1])\n",
    "with open('2023_nlg_2.json', 'w') as f:\n",
    "    json.dump(lines_new, f)"
   ]
  },
  {
   "cell_type": "code",
   "execution_count": 5,
   "id": "f23fc06a-da36-4855-ae38-58f3e74c8c1c",
   "metadata": {},
   "outputs": [],
   "source": [
    "def table_reformulator(line):\n",
    "    table= line['input']['table'] \n",
    "    try:\n",
    "        important_cells  = line['input']['metadata']['highlighted_cells']\n",
    "    except: \n",
    "        important_cells = []\n",
    "    str_normal = ''\n",
    "    str_import = ''\n",
    "    for i, row in enumerate(table):\n",
    "        str_normal += TC\n",
    "        for j, col in enumerate(row):\n",
    "            #str_ += TR\n",
    "            text = col['value']\n",
    "            if col['is_header']: text += TH\n",
    "            if (i, j) in important_cells: text+= TI\n",
    "            #if row['is_important']: text = f\"{TI}{text}\"\n",
    "            \n",
    "            rs, cs = int(col['row_span']), int(col['column_span'])\n",
    "            if rs==0: text += TSR1\n",
    "            elif rs==1: text+= TSR2\n",
    "            else: text += TSRL\n",
    "            \n",
    "            if cs==0: text += TCR1\n",
    "            elif cs==1: text+= TCR2\n",
    "            else: text += TCRL            \n",
    "\n",
    "            str_normal += f'{text}'\n",
    "            if (i, j) in important_cells: str_import += text\n",
    "    return str_normal, str_import"
   ]
  },
  {
   "cell_type": "code",
   "execution_count": 6,
   "id": "ee8fd54d-f88e-49be-b1e7-21d86cac8307",
   "metadata": {},
   "outputs": [
    {
     "name": "stderr",
     "output_type": "stream",
     "text": [
      "Token indices sequence length is longer than the specified maximum sequence length for this model (2182 > 2048). Running this sequence through the model will result in indexing errors\n"
     ]
    },
    {
     "name": "stdout",
     "output_type": "stream",
     "text": [
      "29985 {'conversations': [{'from': 'human', 'value': \"<table_col><table_header><table_SR2><table_CR2><table_header><table_SR2><table_CR2>보육시설<table_header><table_SR2><table_CR2>백분율(100%)<table_header><table_SR2><table_CR2><table_col>배식대 보유<table_SRL><table_CR2>예<table_SR2><table_CR2>276<table_SR2><table_CR2>35.1<table_SR2><table_CR2><table_col>아니오<table_SR2><table_CR2>511<table_SR2><table_CR2>64.9<table_SR2><table_CR2><table_col>소 계<table_SR2><table_CR2>787<table_SR2><table_CR2>100.0<table_SR2><table_CR2>{'title': '서울지역 어린이 대상 급식실태 조사 및 개선방안 연구', 'date': '2008-11-00', 'publisher': '식품의약품안전처', 'table_title': '배식대 보유'}<eval_token_5>\"}, {'from': 'gpt', 'value': '배식대를 보유하고 있는 곳과 그렇지 않은 곳은 조사한 보육시설 중 각각 35.1%(276곳)와 64.9%(511곳)에 해당하는 것으로 조사되었다.</s>'}]}\n"
     ]
    }
   ],
   "source": [
    "## Load 테이블 데이터셋\n",
    "lines_new = []\n",
    "f_name = '2023_NLG/05/NIKL_TABLE_2023_COMPETITION_v1.0/nikluge-2022-table-dev.jsonl'\n",
    "lines = jload(f_name)\n",
    "f_name = '2023_NLG/05/NIKL_TABLE_2023_COMPETITION_v1.0/nikluge-2022-table-train.jsonl'\n",
    "lines.extend(jload(f_name))\n",
    "if DEBUG: lines = lines[:10]\n",
    "## formatter\n",
    "def format_5(line):\n",
    "    table_str, table_str_highlighted = table_reformulator(line)\n",
    "    #if hasattr(line['input']['metadata'], 'url'):\n",
    "    try:\n",
    "        line['input']['metadata'].pop('url')\n",
    "    except:\n",
    "        pass\n",
    "    #if hasattr(line['input']['metadata'], 'highlighted_cells'):\n",
    "    try:\n",
    "        line['input']['metadata'].pop('highlighted_cells')\n",
    "    except:\n",
    "        pass\n",
    "    #line['input']['metadata'].pop('highlighted_cells')\n",
    "\n",
    "    \n",
    "    input_ = f\"{table_str}{line['input']['metadata']}{table_str_highlighted}<eval_token_5>\"\n",
    "    output_= [f\"{o}</s>\" for o in line['output']]\n",
    "    for oo in output_:\n",
    "        assert tok.encode(oo, add_special_tokens=False)[-1]==2\n",
    "    outputs= [{'conversations':[{'from':'human','value':input_},\n",
    "                                 {'from':'gpt','value':f'{o}'},],} for o in output_]\n",
    "    return outputs\n",
    "for l in lines:\n",
    "    tmp = format_5(l)\n",
    "    if len(tok.encode(tmp[0]['conversations'][0]['value']))+len(tok.encode(tmp[0]['conversations'][1]['value']))<=768:\n",
    "        lines_new.extend(tmp)\n",
    "print(len(lines_new), lines_new[-1])\n",
    "with open('2023_nlg_5.json', 'w') as f:\n",
    "    json.dump(lines_new, f)"
   ]
  },
  {
   "cell_type": "code",
   "execution_count": 7,
   "id": "7af266c9-a62b-42c0-b68e-a00baecff1ec",
   "metadata": {},
   "outputs": [],
   "source": [
    "combined = []\n",
    "for i in [2, 5]:\n",
    "    with open(f'2023_nlg_{i}.json', 'r') as f:\n",
    "        data = json.load(f)\n",
    "        combined.extend(data)\n",
    "with open('2023_nlg_combined.json', 'w') as f:\n",
    "    json.dump(combined, f)"
   ]
  },
  {
   "cell_type": "code",
   "execution_count": 8,
   "id": "8d45114f-6a15-4fa3-a1f7-3e3e0a3b98ff",
   "metadata": {},
   "outputs": [
    {
     "name": "stdout",
     "output_type": "stream",
     "text": [
      "1040 {'id': 'nikluge-2022-image-test-001040', 'input': 'S1C0148', 'image': 'S1C/S1C0148.jpg', 'question': '<image><eval_token_2>', 'output': ''}\n"
     ]
    }
   ],
   "source": [
    "## Load 이미지 캡션 데이터셋\n",
    "lines = jload('2023_NLG/02/nikluge-2022-image-test.jsonl')\n",
    "lines_test = []\n",
    "def format_test(line):\n",
    "    input_ = \"<image><eval_token_2>\"\n",
    "    image = f\"{line['input'][:3]}/{line['input']}.jpg\"\n",
    "    return {'id':line['id'], 'input': line['input'], \n",
    "               'image':image, 'question': input_, 'output':''}\n",
    "lines_test = [format_test(l) for l in lines]\n",
    "print(len(lines_test), lines_test[-1])\n",
    "with open('test_2.json', 'w') as f:\n",
    "    json.dump(lines_test, f)"
   ]
  },
  {
   "cell_type": "code",
   "execution_count": 9,
   "id": "eeda5420-fc4c-4ee4-bf1f-f5d67b527556",
   "metadata": {},
   "outputs": [
    {
     "name": "stdout",
     "output_type": "stream",
     "text": [
      "1001 {'id': 'nikluge-2022-table-test-001001', 'input': {'metadata': {'title': '서울지역 어린이 대상 급식실태 조사 및 개선방안 연구', 'date': '2008-11-00', 'publisher': '식품의약품안전처', 'table_title': '보육시설 및 유치원 위생점검횟수'}, 'table': [[{'value': '', 'is_header': True, 'row_span': 1, 'column_span': 1}, {'value': '', 'is_header': True, 'row_span': 1, 'column_span': 1}, {'value': '보육시설', 'is_header': True, 'row_span': 1, 'column_span': 1}, {'value': '유치원', 'is_header': True, 'row_span': 1, 'column_span': 1}], [{'value': ' 시,구청의위생점검횟수 ', 'is_header': False, 'row_span': '6', 'column_span': 1}, {'value': '전혀 받아 본 적이 없다', 'is_header': False, 'row_span': 1, 'column_span': 1}, {'value': '61(20.54%)', 'is_header': False, 'row_span': 1, 'column_span': 1}, {'value': '51(15.09%)', 'is_header': False, 'row_span': 1, 'column_span': 1}], [{'value': '평균3년에1회정도', 'is_header': False, 'row_span': 1, 'column_span': 1}, {'value': '9(1.14%)', 'is_header': False, 'row_span': 1, 'column_span': 1}, {'value': '6(1.78%)', 'is_header': False, 'row_span': 1, 'column_span': 1}], [{'value': '평균2년에1회정도', 'is_header': False, 'row_span': 1, 'column_span': 1}, {'value': '28(3.56%)', 'is_header': False, 'row_span': 1, 'column_span': 1}, {'value': '11(3.25%)', 'is_header': False, 'row_span': 1, 'column_span': 1}], [{'value': '평균1년에1회정도', 'is_header': False, 'row_span': 1, 'column_span': 1}, {'value': '392(49.81%)', 'is_header': False, 'row_span': 1, 'column_span': 1}, {'value': '163(48.22%)', 'is_header': False, 'row_span': 1, 'column_span': 1}], [{'value': '1년에수시로', 'is_header': False, 'row_span': 1, 'column_span': 1}, {'value': '297(37.74%)', 'is_header': False, 'row_span': 1, 'column_span': 1}, {'value': '107(31.66%)', 'is_header': False, 'row_span': 1, 'column_span': 1}], [{'value': '소 계', 'is_header': False, 'row_span': 1, 'column_span': 1}, {'value': '787(100%)', 'is_header': False, 'row_span': 1, 'column_span': 1}, {'value': '338(100%)', 'is_header': False, 'row_span': 1, 'column_span': 1}]]}, 'question': \"<table_col><table_header><table_SR2><table_CR2><table_header><table_SR2><table_CR2>보육시설<table_header><table_SR2><table_CR2>유치원<table_header><table_SR2><table_CR2><table_col> 시,구청의위생점검횟수 <table_SRL><table_CR2>전혀 받아 본 적이 없다<table_SR2><table_CR2>61(20.54%)<table_SR2><table_CR2>51(15.09%)<table_SR2><table_CR2><table_col>평균3년에1회정도<table_SR2><table_CR2>9(1.14%)<table_SR2><table_CR2>6(1.78%)<table_SR2><table_CR2><table_col>평균2년에1회정도<table_SR2><table_CR2>28(3.56%)<table_SR2><table_CR2>11(3.25%)<table_SR2><table_CR2><table_col>평균1년에1회정도<table_SR2><table_CR2>392(49.81%)<table_SR2><table_CR2>163(48.22%)<table_SR2><table_CR2><table_col>1년에수시로<table_SR2><table_CR2>297(37.74%)<table_SR2><table_CR2>107(31.66%)<table_SR2><table_CR2><table_col>소 계<table_SR2><table_CR2>787(100%)<table_SR2><table_CR2>338(100%)<table_SR2><table_CR2>{'title': '서울지역 어린이 대상 급식실태 조사 및 개선방안 연구', 'date': '2008-11-00', 'publisher': '식품의약품안전처', 'table_title': '보육시설 및 유치원 위생점검횟수'}<eval_token_5>\"}\n"
     ]
    }
   ],
   "source": [
    "## Load 테이블 데이터셋\n",
    "lines = jload('2023_NLG/05/NIKL_TABLE_2023_COMPETITION_v1.0/nikluge-2022-table-test.jsonl')\n",
    "\n",
    "def format_test(line):\n",
    "    table_str, table_str_highlighted = table_reformulator(line)\n",
    "    try:\n",
    "        line['input']['metadata'].pop('url')\n",
    "    except:\n",
    "        pass\n",
    "    try:\n",
    "        line['input']['metadata'].pop('highlighted_cells')\n",
    "    except:\n",
    "        pass\n",
    "    input_ = f\"{table_str}{line['input']['metadata']}{table_str_highlighted}<eval_token_5>\"\n",
    "    return {'id': line['id'], 'input': line['input'],\n",
    "            'question': input_}\n",
    "lines_test = [format_test(l) for l in lines]\n",
    "print(len(lines_test), lines_test[-1])\n",
    "with open('test_5.json', 'w') as f:\n",
    "    json.dump(lines_test, f)"
   ]
  },
  {
   "cell_type": "code",
   "execution_count": null,
   "id": "25cd468b-3ccb-46e0-b34d-7eb20dd46aed",
   "metadata": {},
   "outputs": [],
   "source": []
  }
 ],
 "metadata": {
  "kernelspec": {
   "display_name": "Python 3 (ipykernel)",
   "language": "python",
   "name": "python3"
  },
  "language_info": {
   "codemirror_mode": {
    "name": "ipython",
    "version": 3
   },
   "file_extension": ".py",
   "mimetype": "text/x-python",
   "name": "python",
   "nbconvert_exporter": "python",
   "pygments_lexer": "ipython3",
   "version": "3.10.6"
  }
 },
 "nbformat": 4,
 "nbformat_minor": 5
}
